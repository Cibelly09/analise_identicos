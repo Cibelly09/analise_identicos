{
 "cells": [
  {
   "cell_type": "code",
   "execution_count": 1,
   "id": "e3fa185a-64d2-4b80-b258-e9687a9358b9",
   "metadata": {},
   "outputs": [
    {
     "name": "stdout",
     "output_type": "stream",
     "text": [
      "Requirement already satisfied: pandas in c:\\users\\cibelly.souza\\appdata\\local\\anaconda3\\lib\\site-packages (2.2.2)\n",
      "Requirement already satisfied: openpyxl in c:\\users\\cibelly.souza\\appdata\\local\\anaconda3\\lib\\site-packages (3.1.2)\n",
      "Requirement already satisfied: fuzzywuzzy in c:\\users\\cibelly.souza\\appdata\\local\\anaconda3\\lib\\site-packages (0.18.0)\n",
      "Requirement already satisfied: python-Levenshtein in c:\\users\\cibelly.souza\\appdata\\local\\anaconda3\\lib\\site-packages (0.27.1)\n",
      "Requirement already satisfied: numpy>=1.26.0 in c:\\users\\cibelly.souza\\appdata\\local\\anaconda3\\lib\\site-packages (from pandas) (1.26.4)\n",
      "Requirement already satisfied: python-dateutil>=2.8.2 in c:\\users\\cibelly.souza\\appdata\\local\\anaconda3\\lib\\site-packages (from pandas) (2.9.0.post0)\n",
      "Requirement already satisfied: pytz>=2020.1 in c:\\users\\cibelly.souza\\appdata\\local\\anaconda3\\lib\\site-packages (from pandas) (2024.1)\n",
      "Requirement already satisfied: tzdata>=2022.7 in c:\\users\\cibelly.souza\\appdata\\local\\anaconda3\\lib\\site-packages (from pandas) (2023.3)\n",
      "Requirement already satisfied: et-xmlfile in c:\\users\\cibelly.souza\\appdata\\local\\anaconda3\\lib\\site-packages (from openpyxl) (1.1.0)\n",
      "Requirement already satisfied: Levenshtein==0.27.1 in c:\\users\\cibelly.souza\\appdata\\local\\anaconda3\\lib\\site-packages (from python-Levenshtein) (0.27.1)\n",
      "Requirement already satisfied: rapidfuzz<4.0.0,>=3.9.0 in c:\\users\\cibelly.souza\\appdata\\local\\anaconda3\\lib\\site-packages (from Levenshtein==0.27.1->python-Levenshtein) (3.13.0)\n",
      "Requirement already satisfied: six>=1.5 in c:\\users\\cibelly.souza\\appdata\\local\\anaconda3\\lib\\site-packages (from python-dateutil>=2.8.2->pandas) (1.16.0)\n",
      "Note: you may need to restart the kernel to use updated packages.\n"
     ]
    }
   ],
   "source": [
    "pip install pandas openpyxl fuzzywuzzy python-Levenshtein\n"
   ]
  },
  {
   "cell_type": "code",
   "execution_count": 1,
   "id": "ee2fb87c-be63-4370-bb35-f9aa631444e4",
   "metadata": {},
   "outputs": [],
   "source": [
    "import os\n",
    "import pandas as pd\n",
    "import glob\n",
    "from fuzzywuzzy import process\n"
   ]
  },
  {
   "cell_type": "code",
   "execution_count": 3,
   "id": "b800e44f-3daf-4b30-9837-a7ba4e11ba2e",
   "metadata": {},
   "outputs": [],
   "source": [
    "# Caminho da pasta onde estão os arquivos\n",
    "pasta_infomarket = r'K:\\Pricing\\Indicadores de Promoção\\Dados\\Infomarket\\Base detalhada'\n",
    "pasta_smarket = r'K:\\Pricing\\Indicadores de Promoção\\Dados\\Infomarket\\Encartes Smarket'"
   ]
  },
  {
   "cell_type": "code",
   "execution_count": 5,
   "id": "d91821b2-70e6-4535-a983-bc7acbc9c7b8",
   "metadata": {},
   "outputs": [],
   "source": [
    "# 2. Função para pegar o arquivo mais recente com base em um padrão no nome\n",
    "def arquivo_mais_recente(pasta, padrao):\n",
    "    arquivos = glob.glob(os.path.join(pasta, padrao))\n",
    "    if not arquivos:\n",
    "        raise FileNotFoundError(f\"Nenhum arquivo encontrado em {pasta} com o padrão: {padrao}\")\n",
    "    return max(arquivos, key=os.path.getmtime)"
   ]
  },
  {
   "cell_type": "code",
   "execution_count": 7,
   "id": "730f902c-d30e-45a9-8d4a-68281b15205b",
   "metadata": {},
   "outputs": [],
   "source": [
    "# Pegando arquivos de cada pasta\n",
    "arquivo_infomarket = arquivo_mais_recente(pasta_infomarket, 'base_infomarket_2025_05_21*.csv')\n",
    "arquivo_smarket = arquivo_mais_recente(pasta_smarket, 'Relatório_Importação_(sem_segmento)_-_Acordos_Comerciais-16053-21-05-2025-08_25*.csv')"
   ]
  },
  {
   "cell_type": "code",
   "execution_count": 9,
   "id": "29f64843-01bf-4737-80ce-039f7edf4224",
   "metadata": {},
   "outputs": [
    {
     "name": "stdout",
     "output_type": "stream",
     "text": [
      "Arquivo Infomarket: K:\\Pricing\\Indicadores de Promoção\\Dados\\Infomarket\\Base detalhada\\base_infomarket_2025_05_21.csv\n",
      "Arquivo Smarket: K:\\Pricing\\Indicadores de Promoção\\Dados\\Infomarket\\Encartes Smarket\\Relatório_Importação_(sem_segmento)_-_Acordos_Comerciais-16053-21-05-2025-08_25.csv\n"
     ]
    }
   ],
   "source": [
    "print(\"Arquivo Infomarket:\", arquivo_infomarket)\n",
    "print(\"Arquivo Smarket:\", arquivo_smarket)"
   ]
  },
  {
   "cell_type": "code",
   "execution_count": 11,
   "id": "b5b8af6a-43c2-40f8-8c1d-007b3056febb",
   "metadata": {},
   "outputs": [],
   "source": [
    "# 4. Lê os arquivos em dataframes\n",
    "df_infomarket = pd.read_csv(arquivo_infomarket, encoding='utf-8', sep=',', low_memory=False)"
   ]
  },
  {
   "cell_type": "code",
   "execution_count": 13,
   "id": "ca4ae7bb-8ebd-4780-ae8f-28690f05e986",
   "metadata": {},
   "outputs": [],
   "source": [
    "df_smarket = pd.read_csv(arquivo_smarket, encoding='utf-8', sep=';')"
   ]
  },
  {
   "cell_type": "code",
   "execution_count": 15,
   "id": "7ce3cb0b-2886-444d-a4be-d5750a9dd253",
   "metadata": {},
   "outputs": [
    {
     "name": "stdout",
     "output_type": "stream",
     "text": [
      "Index(['leaflet_id', 'network', 'segment', 'state', 'city', 'leaflet_code',\n",
      "       'leaflet_name', 'leaflet_type', 'leaflet_number_of_pages',\n",
      "       'leaflet_last_images_upload', 'leaflet_created', 'leaflet_updated',\n",
      "       'validity_start_date', 'validity_finish_date', 'period',\n",
      "       'item_description', 'ean', 'price', 'minimum_quantity', 'dynamic',\n",
      "       'requires_loyality', 'requires_credit_card', 'wholesale_only',\n",
      "       'price_created', 'price_updated', 'item_measure', 'item_unit_measure',\n",
      "       'category', 'supercategory', 'division', 'brand', 'manufacturer',\n",
      "       'category_id', 'supercategory_id', 'images_url', 'channel_name'],\n",
      "      dtype='object')\n"
     ]
    }
   ],
   "source": [
    "print(df_infomarket.columns)"
   ]
  },
  {
   "cell_type": "code",
   "execution_count": 17,
   "id": "e370c9a1-da3b-44b5-aca2-6d45deca01a6",
   "metadata": {},
   "outputs": [
    {
     "name": "stdout",
     "output_type": "stream",
     "text": [
      "                 leaflet_id           network           segment  \\\n",
      "0  682b316bf485114637e70cb0  LÍDER ATACADISTA  VAREJO ALIMENTAR   \n",
      "1  682b316bf485114637e70cb0  LÍDER ATACADISTA  VAREJO ALIMENTAR   \n",
      "2  682b316bf485114637e70cb0  LÍDER ATACADISTA  VAREJO ALIMENTAR   \n",
      "3  682b316bf485114637e70cb0  LÍDER ATACADISTA  VAREJO ALIMENTAR   \n",
      "4  682b316bf485114637e70cb0  LÍDER ATACADISTA  VAREJO ALIMENTAR   \n",
      "\n",
      "            state      city leaflet_code          leaflet_name leaflet_type  \\\n",
      "0  Santa Catarina    Laguna       e70cb0  PREÇO BAIXO TODO DIA      SEMANAL   \n",
      "1  Santa Catarina  Imbituba       e70cb0  PREÇO BAIXO TODO DIA      SEMANAL   \n",
      "2  Santa Catarina  Imbituba       e70cb0  PREÇO BAIXO TODO DIA      SEMANAL   \n",
      "3  Santa Catarina  São José       e70cb0  PREÇO BAIXO TODO DIA      SEMANAL   \n",
      "4  Santa Catarina   Tubarão       e70cb0  PREÇO BAIXO TODO DIA      SEMANAL   \n",
      "\n",
      "   leaflet_number_of_pages leaflet_last_images_upload  ... item_unit_measure  \\\n",
      "0                        4   2025-05-19T13:26:51.610Z  ...                KG   \n",
      "1                        4   2025-05-19T13:26:51.610Z  ...                KG   \n",
      "2                        4   2025-05-19T13:26:51.610Z  ...                KG   \n",
      "3                        4   2025-05-19T13:26:51.610Z  ...                KG   \n",
      "4                        4   2025-05-19T13:26:51.610Z  ...                KG   \n",
      "\n",
      "                   category     supercategory                  division  \\\n",
      "0  COSTELA BOVINA RESFRIADA  BOVINO RESFRIADO  CARNES E AVES RESFRIADAS   \n",
      "1  COSTELA BOVINA RESFRIADA  BOVINO RESFRIADO  CARNES E AVES RESFRIADAS   \n",
      "2  COSTELA BOVINA RESFRIADA  BOVINO RESFRIADO  CARNES E AVES RESFRIADAS   \n",
      "3  COSTELA BOVINA RESFRIADA  BOVINO RESFRIADO  CARNES E AVES RESFRIADAS   \n",
      "4  COSTELA BOVINA RESFRIADA  BOVINO RESFRIADO  CARNES E AVES RESFRIADAS   \n",
      "\n",
      "    brand manufacturer               category_id          supercategory_id  \\\n",
      "0  OUTROS       OUTROS  66fc2c9bc196bb2232593772  56901e0d921e4494d73adaa7   \n",
      "1  OUTROS       OUTROS  66fc2c9bc196bb2232593772  56901e0d921e4494d73adaa7   \n",
      "2  OUTROS       OUTROS  66fc2c9bc196bb2232593772  56901e0d921e4494d73adaa7   \n",
      "3  OUTROS       OUTROS  66fc2c9bc196bb2232593772  56901e0d921e4494d73adaa7   \n",
      "4  OUTROS       OUTROS  66fc2c9bc196bb2232593772  56901e0d921e4494d73adaa7   \n",
      "\n",
      "                                          images_url channel_name  \n",
      "0  https://app.infomarketpesquisa.com/app/leaflet...    Atacarejo  \n",
      "1  https://app.infomarketpesquisa.com/app/leaflet...    Atacarejo  \n",
      "2  https://app.infomarketpesquisa.com/app/leaflet...    Atacarejo  \n",
      "3  https://app.infomarketpesquisa.com/app/leaflet...    Atacarejo  \n",
      "4  https://app.infomarketpesquisa.com/app/leaflet...    Atacarejo  \n",
      "\n",
      "[5 rows x 36 columns]\n"
     ]
    }
   ],
   "source": [
    "print(df_infomarket.head(5))"
   ]
  },
  {
   "cell_type": "code",
   "execution_count": 19,
   "id": "967f5255-d061-41cc-8add-c6d2f913c368",
   "metadata": {},
   "outputs": [
    {
     "name": "stdout",
     "output_type": "stream",
     "text": [
      "Index(['SEQCAMPANHA', 'CAMPANHA', 'MIDIA', 'INICIO', 'FIM', 'SEQLOJA',\n",
      "       'SEQOFERTA', 'TIPO_OFERTA', 'SEQPRODUTO', 'DESCRICAO', 'PRECO_VAREJO',\n",
      "       'PRECO_ATACADO', 'QUANTIDADE_MINIMA', 'PRECO_FIDELIDADE',\n",
      "       'SEQFORNECEDOR', 'NEGOCIACAO_ESPACO', 'TIPO_CASHBACK', 'CASHBACK_R$',\n",
      "       'DESCONTO DE %', 'QTD. PAGUE', 'QTD. LEVE', 'COMPRA DE',\n",
      "       'DESCONTO EM UNIDADES', 'PRECO_REGULAR', 'PÁGINA'],\n",
      "      dtype='object')\n"
     ]
    }
   ],
   "source": [
    "print(df_smarket.columns)"
   ]
  },
  {
   "cell_type": "code",
   "execution_count": 21,
   "id": "6fc6c2eb-7e67-4d13-a166-e2b42c5d59b7",
   "metadata": {},
   "outputs": [],
   "source": [
    "#unindo o preço varejo e fidelidade e  transformando em apenas meu preço para trazer o menor\n",
    "df_smarket['MEU_PRECO'] = df_smarket[['PRECO_VAREJO', 'PRECO_FIDELIDADE']].min(axis=1)"
   ]
  },
  {
   "cell_type": "code",
   "execution_count": 23,
   "id": "8e769c75-2209-4817-8619-4599a31ae0cb",
   "metadata": {},
   "outputs": [],
   "source": [
    "# Selecionando as colunas para dar match de cada base\n",
    "concorrentes = df_infomarket[['item_description', 'price','network','leaflet_name','leaflet_type', 'validity_start_date','validity_finish_date', 'images_url']].dropna()\n",
    "proprios = df_smarket[['DESCRICAO', 'MEU_PRECO', 'CAMPANHA','INICIO', 'FIM',]].dropna()"
   ]
  },
  {
   "cell_type": "code",
   "execution_count": 25,
   "id": "025cd031-42ea-4057-9833-e7b79f5a9b98",
   "metadata": {},
   "outputs": [],
   "source": [
    "# Função para achar o melhor match fuzzy\n",
    "def encontrar_melhor_match(produto, lista_produtos, threshold=90):\n",
    "    match, score = process.extractOne(produto, lista_produtos)\n",
    "    if score >= threshold:\n",
    "        return match\n",
    "    else:\n",
    "        return None\n"
   ]
  },
  {
   "cell_type": "code",
   "execution_count": 27,
   "id": "5ec8efde-0119-4ef7-9f36-ad7074897077",
   "metadata": {},
   "outputs": [],
   "source": [
    "#lista de produtos dos concorrentes para comparação\n",
    "concorrentes_melhor_oferta = concorrentes.sort_values(by='price', ascending=True).drop_duplicates(subset='item_description', keep='first').copy()\n",
    "#ordena os concorrentes por preço mais baixo primeiro"
   ]
  },
  {
   "cell_type": "code",
   "execution_count": 29,
   "id": "9d5deacc-1902-4282-8ad6-6156b88d926b",
   "metadata": {},
   "outputs": [],
   "source": [
    "# 2. Criar a lista de produtos concorrentes para o fuzzy matching\n",
    "lista_concorrentes = concorrentes_melhor_oferta['item_description'].tolist()"
   ]
  },
  {
   "cell_type": "code",
   "execution_count": 31,
   "id": "dc65b7e4-0d00-4238-9e0d-7afb1c71d043",
   "metadata": {},
   "outputs": [],
   "source": [
    "# 3. Criar o dicionário de concorrentes otimizado, usando a melhor oferta de cada produto\n",
    "concorrentes_dict = concorrentes_melhor_oferta.set_index('item_description').to_dict('index')\n"
   ]
  },
  {
   "cell_type": "code",
   "execution_count": 33,
   "id": "dd2771ab-7872-485b-b48b-62612c63cf92",
   "metadata": {},
   "outputs": [
    {
     "name": "stdout",
     "output_type": "stream",
     "text": [
      "item_description\n",
      "POTE SANREMO 785ML                                                 264\n",
      "FRIGIDEIRA TRAMONTINA PLOTTER ESTAMPAS 1.2L 24CM                   264\n",
      "POTE SANREMO 800ML                                                 258\n",
      "JOGO DE ASSADEIRAS TRAMONTINA ANTIADERENTE ROSA 2 PEÇAS            223\n",
      "KIT BULE SANREMO + SUPORTE PARA FILTRO DE CAFÉ N102 700ML CORES    220\n",
      "CONJUNTO DE POTE SANREMO FÁCIL 360ML 4UND                          220\n",
      "FAQUEIRO TRAMONTINA IPANEMA 24 PEÇAS                               220\n",
      "FEIRINHA SANREMO UND                                               192\n",
      "LASANHA SEARA SABORES 600G                                         184\n",
      "FAQUEIRO TRAMONTINA LAGUNA INOX 16 PEÇAS                           180\n",
      "Name: count, dtype: int64\n"
     ]
    }
   ],
   "source": [
    "#garantindo que está td certo \n",
    "print(concorrentes['item_description'].value_counts().head(10))\n"
   ]
  },
  {
   "cell_type": "code",
   "execution_count": 35,
   "id": "e6f1a6e4-d13e-4a62-9ee2-3e57386b44d0",
   "metadata": {},
   "outputs": [],
   "source": [
    "# Lista para armazenar resultados\n",
    "resultados = []"
   ]
  },
  {
   "cell_type": "code",
   "execution_count": 37,
   "id": "06941ecc-5cac-4859-be4e-88a95cbe45d2",
   "metadata": {},
   "outputs": [],
   "source": [
    "#lista de descrições únicas dos concorrentes\n",
    "lista_concorrentes = list(concorrentes_dict.keys())"
   ]
  },
  {
   "cell_type": "code",
   "execution_count": 39,
   "id": "7fe08e24-b71a-49da-926e-433b12fd099d",
   "metadata": {},
   "outputs": [],
   "source": [
    "# Função objetiva para formatar em Reais\n",
    "def formatar_para_reais(valor):\n",
    "    # 4 espaços de identação para o corpo da função\n",
    "    if pd.isna(valor):\n",
    "        # 8 espaços de identação para o bloco 'if'\n",
    "        return None \n",
    "    \n",
    "    # 4 espaços de identação para as linhas de processamento\n",
    "    s_valor = f\"{valor:,.2f}\"\n",
    "    s_valor = s_valor.replace(\",\", \"X\").replace(\".\", \",\").replace(\"X\", \".\")\n",
    "    \n",
    "    # 4 espaços de identação para a linha de retorno final\n",
    "    return f\"R$ {s_valor}\""
   ]
  },
  {
   "cell_type": "code",
   "execution_count": 41,
   "id": "6164d91e-337d-4802-b15a-89c4e0a5b118",
   "metadata": {},
   "outputs": [],
   "source": [
    "#loop nos produtos próprios\n",
    "for i, row in proprios.iterrows(): #iterrows = linha por linha\n",
    "    produto_proprio = row['DESCRICAO'] #extração dos dados\n",
    "    preco_proprio = row['MEU_PRECO']\n",
    "    campanha = row['CAMPANHA']\n",
    "    inicio_vigencia = row['INICIO']\n",
    "    fim_vigencia = row['FIM']\n",
    "    \n",
    "    \n",
    "    #Buscar melhor correspondencia com fuzzy matching    \n",
    "melhor_match, score = process.extractOne(produto_proprio, lista_concorrentes) #encontrar_melhor_match busca o nome mais parecido com fuzzy matching\n",
    "    # Inicializa variáveis para o caso de não haver match ou score baixo\n",
    "preco_concorrente = None\n",
    "indice_formatado = None\n",
    "concorrente_mais_barato = None\n",
    "rede_concorrente = None\n",
    "nome_encarte = None\n",
    "tipo_encarte = None\n",
    "url_encarte = None\n",
    "validity_start_date = None\n",
    "validity_finish_date = None # <-- Adicione esta variável\n",
    "diferenca_preco_bruta = None\n",
    "diferenca_preco_reais_formatada = None\n",
    "\n",
    "if score >= 90:\n",
    "        info_concorrente = concorrentes_dict[melhor_match]\n",
    "        preco_concorrente = info_concorrente ['price']\n",
    "        rede_concorrente = info_concorrente ['network']\n",
    "        validity_start_date_conc = info_concorrente.get('validity_start_date')\n",
    "        validity_finish_date_conc = info_concorrente.get('validity_finish_date')\n",
    "        nome_encarte = info_concorrente['leaflet_name']\n",
    "        tipo_encarte = info_concorrente['leaflet_type']\n",
    "        url_encarte = info_concorrente['images_url']\n",
    "        \n",
    "    # Evita divisão por zero\n",
    "        if preco_concorrente is not None and preco_concorrente > 0:\n",
    "            indice_valor = preco_proprio / preco_concorrente\n",
    "            #formata para percentual com arredondamento e %\n",
    "            indice_formatado = f'{round(indice_valor * 100)}%'\n",
    "            diferenca_preco_bruta = preco_proprio - preco_concorrente\n",
    "            diferenca_preco_reais_formatada = formatar_para_reais(diferenca_preco_bruta)\n",
    "           \n",
    "        else: #se preço concorrente for zero ou none\n",
    "            indice_formatado = None\n",
    "            diferenca_preco_bruta = None\n",
    "            diferenca_preco_reais_formatada = None\n",
    "\n",
    "        resultados.append({\n",
    "            'Produto_Proprio': produto_proprio,\n",
    "            'Preco_Proprio': preco_proprio,\n",
    "            'Campanha_Propria': campanha,\n",
    "            'INICIO_Proprio': inicio_vigencia,\n",
    "            'FIM_Proprio': fim_vigencia,\n",
    "            'Produto_Concorrente': melhor_match,\n",
    "            'Preco_Concorrente': preco_concorrente,\n",
    "            'Rede_Concorrente': info_concorrente['network'],\n",
    "            'Nome_Encarte': info_concorrente['leaflet_name'],\n",
    "            'Tipo_Encarte': info_concorrente['leaflet_type'],\n",
    "            'URL_Encarte': info_concorrente['images_url'],\n",
    "            'INICIO_Concorrente_Encarte': validity_start_date_conc, \n",
    "            'FIM_Concorrente_Encarte': validity_finish_date_conc,\n",
    "            'Indice_Formatado': indice_formatado,\n",
    "            'Diferenca_Preco_Reais': diferenca_preco_reais_formatada,\n",
    "        })"
   ]
  },
  {
   "cell_type": "code",
   "execution_count": 43,
   "id": "f77ec086-cc9a-4f02-b792-ff85febf11e4",
   "metadata": {},
   "outputs": [],
   "source": [
    "# Criar dataframe dos resultados\n",
    "df_resultado = pd.DataFrame(resultados)"
   ]
  },
  {
   "cell_type": "code",
   "execution_count": 45,
   "id": "22a3a2e3-4061-4c8a-bc0c-afd387e50621",
   "metadata": {},
   "outputs": [
    {
     "name": "stdout",
     "output_type": "stream",
     "text": [
      "   Produto_Proprio  Preco_Proprio  \\\n",
      "0  LARANJA PERA KG           4.79   \n",
      "\n",
      "                                    Campanha_Propria INICIO_Proprio  \\\n",
      "0  KOCH - CAPA ESPECIAL PALHOÇA, SÃO FRANCISCO DO...     2025-04-28   \n",
      "\n",
      "  FIM_Proprio Produto_Concorrente  Preco_Concorrente      Rede_Concorrente  \\\n",
      "0  2025-05-02     LARANJA PERA KG               3.79  SUPERMERCADO MESCHKE   \n",
      "\n",
      "  Nome_Encarte Tipo_Encarte  \\\n",
      "0  HORTI FRUTI   HORTIFRUTI   \n",
      "\n",
      "                                         URL_Encarte  \\\n",
      "0  https://app.infomarketpesquisa.com/app/leaflet...   \n",
      "\n",
      "  INICIO_Concorrente_Encarte FIM_Concorrente_Encarte Indice_Formatado  \\\n",
      "0                 20/05/2025              20/05/2025             126%   \n",
      "\n",
      "  Diferenca_Preco_Reais  \n",
      "0               R$ 1,00  \n"
     ]
    }
   ],
   "source": [
    "print(df_resultado.head(5))"
   ]
  },
  {
   "cell_type": "code",
   "execution_count": 47,
   "id": "9088013f-17f8-45cc-b2b9-e06afe4fa16f",
   "metadata": {},
   "outputs": [
    {
     "data": {
      "text/plain": [
       "Index(['Produto_Proprio', 'Preco_Proprio', 'Campanha_Propria',\n",
       "       'INICIO_Proprio', 'FIM_Proprio', 'Produto_Concorrente',\n",
       "       'Preco_Concorrente', 'Rede_Concorrente', 'Nome_Encarte', 'Tipo_Encarte',\n",
       "       'URL_Encarte', 'INICIO_Concorrente_Encarte', 'FIM_Concorrente_Encarte',\n",
       "       'Indice_Formatado', 'Diferenca_Preco_Reais'],\n",
       "      dtype='object')"
      ]
     },
     "execution_count": 47,
     "metadata": {},
     "output_type": "execute_result"
    }
   ],
   "source": [
    "df_resultado.columns"
   ]
  },
  {
   "cell_type": "code",
   "execution_count": 49,
   "id": "dd65baae-48fd-4a2b-987f-eac9557b8ed9",
   "metadata": {},
   "outputs": [],
   "source": [
    "#reordenando as colunas\n",
    "nova_ordem = ['Campanha_Propria','INICIO_Proprio', 'FIM_Proprio','Produto_Proprio', 'Preco_Proprio','Produto_Concorrente',\n",
    "       'Preco_Concorrente', 'Indice_Formatado', 'Diferenca_Preco_Reais','Rede_Concorrente', 'Nome_Encarte', 'Tipo_Encarte',\n",
    "       'URL_Encarte', 'INICIO_Concorrente_Encarte', 'FIM_Concorrente_Encarte']"
   ]
  },
  {
   "cell_type": "code",
   "execution_count": 51,
   "id": "f5958719-5032-4f08-a8e6-4c2d775e197d",
   "metadata": {},
   "outputs": [],
   "source": [
    "#Reordenando\n",
    "df_reordenado = df_resultado[nova_ordem]"
   ]
  },
  {
   "cell_type": "code",
   "execution_count": 57,
   "id": "ac128c77-44c3-4094-88bb-4ffb3a45b445",
   "metadata": {},
   "outputs": [
    {
     "name": "stdout",
     "output_type": "stream",
     "text": [
      "                                    Campanha_Propria INICIO_Proprio  \\\n",
      "0  KOCH - CAPA ESPECIAL PALHOÇA, SÃO FRANCISCO DO...     2025-04-28   \n",
      "\n",
      "  FIM_Proprio  Produto_Proprio  Preco_Proprio Produto_Concorrente  \\\n",
      "0  2025-05-02  LARANJA PERA KG           4.79     LARANJA PERA KG   \n",
      "\n",
      "   Preco_Concorrente Indice_Formatado Diferenca_Preco_Reais  \\\n",
      "0               3.79             126%               R$ 1,00   \n",
      "\n",
      "       Rede_Concorrente Nome_Encarte Tipo_Encarte  \\\n",
      "0  SUPERMERCADO MESCHKE  HORTI FRUTI   HORTIFRUTI   \n",
      "\n",
      "                                         URL_Encarte  \\\n",
      "0  https://app.infomarketpesquisa.com/app/leaflet...   \n",
      "\n",
      "  INICIO_Concorrente_Encarte FIM_Concorrente_Encarte  \n",
      "0                 20/05/2025              20/05/2025  \n"
     ]
    }
   ],
   "source": [
    "print(df_reordenado)"
   ]
  },
  {
   "cell_type": "code",
   "execution_count": 59,
   "id": "68d04460-7597-4de7-b500-15fbc9430613",
   "metadata": {},
   "outputs": [
    {
     "ename": "PermissionError",
     "evalue": "[Errno 13] Permission denied: 'K:\\\\Pricing\\\\Indicadores de Promoção\\\\Dados\\\\Infomarket\\\\Automatizacao\\\\IDENTICOS\\\\Comparativo4.xlsx'",
     "output_type": "error",
     "traceback": [
      "\u001b[1;31m---------------------------------------------------------------------------\u001b[0m",
      "\u001b[1;31mPermissionError\u001b[0m                           Traceback (most recent call last)",
      "Cell \u001b[1;32mIn[59], line 2\u001b[0m\n\u001b[0;32m      1\u001b[0m \u001b[38;5;66;03m# Salvar em Excel para análise\u001b[39;00m\n\u001b[1;32m----> 2\u001b[0m df_resultado\u001b[38;5;241m.\u001b[39mto_excel(\u001b[38;5;124mr\u001b[39m\u001b[38;5;124m'\u001b[39m\u001b[38;5;124mK:\u001b[39m\u001b[38;5;124m\\\u001b[39m\u001b[38;5;124mPricing\u001b[39m\u001b[38;5;124m\\\u001b[39m\u001b[38;5;124mIndicadores de Promoção\u001b[39m\u001b[38;5;124m\\\u001b[39m\u001b[38;5;124mDados\u001b[39m\u001b[38;5;124m\\\u001b[39m\u001b[38;5;124mInfomarket\u001b[39m\u001b[38;5;124m\\\u001b[39m\u001b[38;5;124mAutomatizacao\u001b[39m\u001b[38;5;124m\\\u001b[39m\u001b[38;5;124mIDENTICOS\u001b[39m\u001b[38;5;124m\\\u001b[39m\u001b[38;5;124mComparativo4.xlsx\u001b[39m\u001b[38;5;124m'\u001b[39m, index\u001b[38;5;241m=\u001b[39m\u001b[38;5;28;01mFalse\u001b[39;00m)\n\u001b[0;32m      3\u001b[0m \u001b[38;5;28mprint\u001b[39m(\u001b[38;5;124m\"\u001b[39m\u001b[38;5;124mAnálise concluída e salva em \u001b[39m\u001b[38;5;124m'\u001b[39m\u001b[38;5;124mcomparativo_encartes.xlsx\u001b[39m\u001b[38;5;124m'\u001b[39m\u001b[38;5;124m\"\u001b[39m)\n",
      "File \u001b[1;32m~\\AppData\\Local\\anaconda3\\Lib\\site-packages\\pandas\\util\\_decorators.py:333\u001b[0m, in \u001b[0;36mdeprecate_nonkeyword_arguments.<locals>.decorate.<locals>.wrapper\u001b[1;34m(*args, **kwargs)\u001b[0m\n\u001b[0;32m    327\u001b[0m \u001b[38;5;28;01mif\u001b[39;00m \u001b[38;5;28mlen\u001b[39m(args) \u001b[38;5;241m>\u001b[39m num_allow_args:\n\u001b[0;32m    328\u001b[0m     warnings\u001b[38;5;241m.\u001b[39mwarn(\n\u001b[0;32m    329\u001b[0m         msg\u001b[38;5;241m.\u001b[39mformat(arguments\u001b[38;5;241m=\u001b[39m_format_argument_list(allow_args)),\n\u001b[0;32m    330\u001b[0m         \u001b[38;5;167;01mFutureWarning\u001b[39;00m,\n\u001b[0;32m    331\u001b[0m         stacklevel\u001b[38;5;241m=\u001b[39mfind_stack_level(),\n\u001b[0;32m    332\u001b[0m     )\n\u001b[1;32m--> 333\u001b[0m \u001b[38;5;28;01mreturn\u001b[39;00m func(\u001b[38;5;241m*\u001b[39margs, \u001b[38;5;241m*\u001b[39m\u001b[38;5;241m*\u001b[39mkwargs)\n",
      "File \u001b[1;32m~\\AppData\\Local\\anaconda3\\Lib\\site-packages\\pandas\\core\\generic.py:2417\u001b[0m, in \u001b[0;36mNDFrame.to_excel\u001b[1;34m(self, excel_writer, sheet_name, na_rep, float_format, columns, header, index, index_label, startrow, startcol, engine, merge_cells, inf_rep, freeze_panes, storage_options, engine_kwargs)\u001b[0m\n\u001b[0;32m   2404\u001b[0m \u001b[38;5;28;01mfrom\u001b[39;00m \u001b[38;5;21;01mpandas\u001b[39;00m\u001b[38;5;21;01m.\u001b[39;00m\u001b[38;5;21;01mio\u001b[39;00m\u001b[38;5;21;01m.\u001b[39;00m\u001b[38;5;21;01mformats\u001b[39;00m\u001b[38;5;21;01m.\u001b[39;00m\u001b[38;5;21;01mexcel\u001b[39;00m \u001b[38;5;28;01mimport\u001b[39;00m ExcelFormatter\n\u001b[0;32m   2406\u001b[0m formatter \u001b[38;5;241m=\u001b[39m ExcelFormatter(\n\u001b[0;32m   2407\u001b[0m     df,\n\u001b[0;32m   2408\u001b[0m     na_rep\u001b[38;5;241m=\u001b[39mna_rep,\n\u001b[1;32m   (...)\u001b[0m\n\u001b[0;32m   2415\u001b[0m     inf_rep\u001b[38;5;241m=\u001b[39minf_rep,\n\u001b[0;32m   2416\u001b[0m )\n\u001b[1;32m-> 2417\u001b[0m formatter\u001b[38;5;241m.\u001b[39mwrite(\n\u001b[0;32m   2418\u001b[0m     excel_writer,\n\u001b[0;32m   2419\u001b[0m     sheet_name\u001b[38;5;241m=\u001b[39msheet_name,\n\u001b[0;32m   2420\u001b[0m     startrow\u001b[38;5;241m=\u001b[39mstartrow,\n\u001b[0;32m   2421\u001b[0m     startcol\u001b[38;5;241m=\u001b[39mstartcol,\n\u001b[0;32m   2422\u001b[0m     freeze_panes\u001b[38;5;241m=\u001b[39mfreeze_panes,\n\u001b[0;32m   2423\u001b[0m     engine\u001b[38;5;241m=\u001b[39mengine,\n\u001b[0;32m   2424\u001b[0m     storage_options\u001b[38;5;241m=\u001b[39mstorage_options,\n\u001b[0;32m   2425\u001b[0m     engine_kwargs\u001b[38;5;241m=\u001b[39mengine_kwargs,\n\u001b[0;32m   2426\u001b[0m )\n",
      "File \u001b[1;32m~\\AppData\\Local\\anaconda3\\Lib\\site-packages\\pandas\\io\\formats\\excel.py:943\u001b[0m, in \u001b[0;36mExcelFormatter.write\u001b[1;34m(self, writer, sheet_name, startrow, startcol, freeze_panes, engine, storage_options, engine_kwargs)\u001b[0m\n\u001b[0;32m    941\u001b[0m     need_save \u001b[38;5;241m=\u001b[39m \u001b[38;5;28;01mFalse\u001b[39;00m\n\u001b[0;32m    942\u001b[0m \u001b[38;5;28;01melse\u001b[39;00m:\n\u001b[1;32m--> 943\u001b[0m     writer \u001b[38;5;241m=\u001b[39m ExcelWriter(\n\u001b[0;32m    944\u001b[0m         writer,\n\u001b[0;32m    945\u001b[0m         engine\u001b[38;5;241m=\u001b[39mengine,\n\u001b[0;32m    946\u001b[0m         storage_options\u001b[38;5;241m=\u001b[39mstorage_options,\n\u001b[0;32m    947\u001b[0m         engine_kwargs\u001b[38;5;241m=\u001b[39mengine_kwargs,\n\u001b[0;32m    948\u001b[0m     )\n\u001b[0;32m    949\u001b[0m     need_save \u001b[38;5;241m=\u001b[39m \u001b[38;5;28;01mTrue\u001b[39;00m\n\u001b[0;32m    951\u001b[0m \u001b[38;5;28;01mtry\u001b[39;00m:\n",
      "File \u001b[1;32m~\\AppData\\Local\\anaconda3\\Lib\\site-packages\\pandas\\io\\excel\\_openpyxl.py:61\u001b[0m, in \u001b[0;36mOpenpyxlWriter.__init__\u001b[1;34m(self, path, engine, date_format, datetime_format, mode, storage_options, if_sheet_exists, engine_kwargs, **kwargs)\u001b[0m\n\u001b[0;32m     57\u001b[0m \u001b[38;5;28;01mfrom\u001b[39;00m \u001b[38;5;21;01mopenpyxl\u001b[39;00m\u001b[38;5;21;01m.\u001b[39;00m\u001b[38;5;21;01mworkbook\u001b[39;00m \u001b[38;5;28;01mimport\u001b[39;00m Workbook\n\u001b[0;32m     59\u001b[0m engine_kwargs \u001b[38;5;241m=\u001b[39m combine_kwargs(engine_kwargs, kwargs)\n\u001b[1;32m---> 61\u001b[0m \u001b[38;5;28msuper\u001b[39m()\u001b[38;5;241m.\u001b[39m\u001b[38;5;21m__init__\u001b[39m(\n\u001b[0;32m     62\u001b[0m     path,\n\u001b[0;32m     63\u001b[0m     mode\u001b[38;5;241m=\u001b[39mmode,\n\u001b[0;32m     64\u001b[0m     storage_options\u001b[38;5;241m=\u001b[39mstorage_options,\n\u001b[0;32m     65\u001b[0m     if_sheet_exists\u001b[38;5;241m=\u001b[39mif_sheet_exists,\n\u001b[0;32m     66\u001b[0m     engine_kwargs\u001b[38;5;241m=\u001b[39mengine_kwargs,\n\u001b[0;32m     67\u001b[0m )\n\u001b[0;32m     69\u001b[0m \u001b[38;5;66;03m# ExcelWriter replaced \"a\" by \"r+\" to allow us to first read the excel file from\u001b[39;00m\n\u001b[0;32m     70\u001b[0m \u001b[38;5;66;03m# the file and later write to it\u001b[39;00m\n\u001b[0;32m     71\u001b[0m \u001b[38;5;28;01mif\u001b[39;00m \u001b[38;5;124m\"\u001b[39m\u001b[38;5;124mr+\u001b[39m\u001b[38;5;124m\"\u001b[39m \u001b[38;5;129;01min\u001b[39;00m \u001b[38;5;28mself\u001b[39m\u001b[38;5;241m.\u001b[39m_mode:  \u001b[38;5;66;03m# Load from existing workbook\u001b[39;00m\n",
      "File \u001b[1;32m~\\AppData\\Local\\anaconda3\\Lib\\site-packages\\pandas\\io\\excel\\_base.py:1246\u001b[0m, in \u001b[0;36mExcelWriter.__init__\u001b[1;34m(self, path, engine, date_format, datetime_format, mode, storage_options, if_sheet_exists, engine_kwargs)\u001b[0m\n\u001b[0;32m   1242\u001b[0m \u001b[38;5;28mself\u001b[39m\u001b[38;5;241m.\u001b[39m_handles \u001b[38;5;241m=\u001b[39m IOHandles(\n\u001b[0;32m   1243\u001b[0m     cast(IO[\u001b[38;5;28mbytes\u001b[39m], path), compression\u001b[38;5;241m=\u001b[39m{\u001b[38;5;124m\"\u001b[39m\u001b[38;5;124mcompression\u001b[39m\u001b[38;5;124m\"\u001b[39m: \u001b[38;5;28;01mNone\u001b[39;00m}\n\u001b[0;32m   1244\u001b[0m )\n\u001b[0;32m   1245\u001b[0m \u001b[38;5;28;01mif\u001b[39;00m \u001b[38;5;129;01mnot\u001b[39;00m \u001b[38;5;28misinstance\u001b[39m(path, ExcelWriter):\n\u001b[1;32m-> 1246\u001b[0m     \u001b[38;5;28mself\u001b[39m\u001b[38;5;241m.\u001b[39m_handles \u001b[38;5;241m=\u001b[39m get_handle(\n\u001b[0;32m   1247\u001b[0m         path, mode, storage_options\u001b[38;5;241m=\u001b[39mstorage_options, is_text\u001b[38;5;241m=\u001b[39m\u001b[38;5;28;01mFalse\u001b[39;00m\n\u001b[0;32m   1248\u001b[0m     )\n\u001b[0;32m   1249\u001b[0m \u001b[38;5;28mself\u001b[39m\u001b[38;5;241m.\u001b[39m_cur_sheet \u001b[38;5;241m=\u001b[39m \u001b[38;5;28;01mNone\u001b[39;00m\n\u001b[0;32m   1251\u001b[0m \u001b[38;5;28;01mif\u001b[39;00m date_format \u001b[38;5;129;01mis\u001b[39;00m \u001b[38;5;28;01mNone\u001b[39;00m:\n",
      "File \u001b[1;32m~\\AppData\\Local\\anaconda3\\Lib\\site-packages\\pandas\\io\\common.py:882\u001b[0m, in \u001b[0;36mget_handle\u001b[1;34m(path_or_buf, mode, encoding, compression, memory_map, is_text, errors, storage_options)\u001b[0m\n\u001b[0;32m    873\u001b[0m         handle \u001b[38;5;241m=\u001b[39m \u001b[38;5;28mopen\u001b[39m(\n\u001b[0;32m    874\u001b[0m             handle,\n\u001b[0;32m    875\u001b[0m             ioargs\u001b[38;5;241m.\u001b[39mmode,\n\u001b[1;32m   (...)\u001b[0m\n\u001b[0;32m    878\u001b[0m             newline\u001b[38;5;241m=\u001b[39m\u001b[38;5;124m\"\u001b[39m\u001b[38;5;124m\"\u001b[39m,\n\u001b[0;32m    879\u001b[0m         )\n\u001b[0;32m    880\u001b[0m     \u001b[38;5;28;01melse\u001b[39;00m:\n\u001b[0;32m    881\u001b[0m         \u001b[38;5;66;03m# Binary mode\u001b[39;00m\n\u001b[1;32m--> 882\u001b[0m         handle \u001b[38;5;241m=\u001b[39m \u001b[38;5;28mopen\u001b[39m(handle, ioargs\u001b[38;5;241m.\u001b[39mmode)\n\u001b[0;32m    883\u001b[0m     handles\u001b[38;5;241m.\u001b[39mappend(handle)\n\u001b[0;32m    885\u001b[0m \u001b[38;5;66;03m# Convert BytesIO or file objects passed with an encoding\u001b[39;00m\n",
      "\u001b[1;31mPermissionError\u001b[0m: [Errno 13] Permission denied: 'K:\\\\Pricing\\\\Indicadores de Promoção\\\\Dados\\\\Infomarket\\\\Automatizacao\\\\IDENTICOS\\\\Comparativo4.xlsx'"
     ]
    }
   ],
   "source": [
    "# Salvar em Excel para análise\n",
    "df_resultado.to_excel(r'K:\\Pricing\\Indicadores de Promoção\\Dados\\Infomarket\\Automatizacao\\IDENTICOS\\Comparativo4.xlsx', index=False)\n",
    "print(\"Análise concluída e salva em 'comparativo_encartes.xlsx'\")"
   ]
  },
  {
   "cell_type": "code",
   "execution_count": 49,
   "id": "5a4e7327-2d02-471c-8f9e-d16a79695101",
   "metadata": {},
   "outputs": [
    {
     "data": {
      "text/plain": [
       "Rede_Concorrente\n",
       "SUPERMERCADO MESCHKE    3.79\n",
       "Name: Preco_Concorrente, dtype: float64"
      ]
     },
     "execution_count": 49,
     "metadata": {},
     "output_type": "execute_result"
    }
   ],
   "source": [
    "#Preço Médio por rede de concorrente\n",
    "df_resultado.groupby('Rede_Concorrente')['Preco_Concorrente'].mean()"
   ]
  },
  {
   "cell_type": "code",
   "execution_count": null,
   "id": "31e64d73-8bdb-480c-bb0b-676d0ec1d1de",
   "metadata": {},
   "outputs": [],
   "source": []
  }
 ],
 "metadata": {
  "kernelspec": {
   "display_name": "Python 3 (ipykernel)",
   "language": "python",
   "name": "python3"
  },
  "language_info": {
   "codemirror_mode": {
    "name": "ipython",
    "version": 3
   },
   "file_extension": ".py",
   "mimetype": "text/x-python",
   "name": "python",
   "nbconvert_exporter": "python",
   "pygments_lexer": "ipython3",
   "version": "3.12.4"
  }
 },
 "nbformat": 4,
 "nbformat_minor": 5
}
